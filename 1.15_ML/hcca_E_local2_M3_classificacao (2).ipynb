{
 "cells": [
  {
   "cell_type": "markdown",
   "metadata": {
    "colab_type": "text",
    "id": "view-in-github"
   },
   "source": [
    "<a href=\"https://colab.research.google.com/github/hiramaralIA/M3_Machine_Learning/blob/main/hcca_01_ML_DS_Python_classificacao.ipynb\" target=\"_parent\"><img src=\"https://colab.research.google.com/assets/colab-badge.svg\" alt=\"Open In Colab\"/></a>"
   ]
  },
  {
   "cell_type": "markdown",
   "metadata": {
    "id": "bdeWF9k0L2YT"
   },
   "source": [
    "# Machine Learning e Data Science com Python (Classificacão)"
   ]
  },
  {
   "cell_type": "markdown",
   "metadata": {
    "id": "hfYbHgghOW5g"
   },
   "source": [
    "# Importação das bibliotecas básicas"
   ]
  },
  {
   "cell_type": "code",
   "execution_count": 6,
   "metadata": {
    "colab": {
     "base_uri": "https://localhost:8080/"
    },
    "id": "IyRCfZ_fhLef",
    "outputId": "6a413e23-6aeb-4e13-ecf1-3d231f0cbfc1"
   },
   "outputs": [],
   "source": [
    "!pip -q install plotly --upgrade"
   ]
  },
  {
   "cell_type": "code",
   "execution_count": 7,
   "metadata": {
    "id": "WOUlbp8VUhTT"
   },
   "outputs": [],
   "source": [
    "!pip -q install yellowbrick"
   ]
  },
  {
   "cell_type": "code",
   "execution_count": 8,
   "metadata": {
    "id": "nVP1Ah9dhd1F"
   },
   "outputs": [],
   "source": [
    "import pandas as pd\n",
    "import numpy as np\n",
    "import seaborn as sns\n",
    "import matplotlib.pyplot as plt\n",
    "import plotly.express as px"
   ]
  },
  {
   "cell_type": "markdown",
   "metadata": {
    "id": "d4GPkpRVTfq4"
   },
   "source": [
    "# Base de dados de crédito\n",
    "\n",
    "- Fonte (adaptado): https://www.kaggle.com/laotse/credit-risk-dataset"
   ]
  },
  {
   "cell_type": "markdown",
   "metadata": {
    "id": "oCVRZFuyXPR9"
   },
   "source": [
    "### Exploração dos dados"
   ]
  },
  {
   "cell_type": "code",
   "execution_count": null,
   "metadata": {},
   "outputs": [],
   "source": []
  },
  {
   "cell_type": "markdown",
   "metadata": {
    "id": "x23iAAKsQ-iU"
   },
   "source": [
    "### Visualização dos dados"
   ]
  },
  {
   "cell_type": "code",
   "execution_count": null,
   "metadata": {},
   "outputs": [],
   "source": []
  },
  {
   "cell_type": "markdown",
   "metadata": {
    "id": "9JL8G9jQXTLF"
   },
   "source": [
    "### Tratamento de valores inconsistentes"
   ]
  },
  {
   "cell_type": "code",
   "execution_count": null,
   "metadata": {},
   "outputs": [],
   "source": []
  },
  {
   "cell_type": "markdown",
   "metadata": {
    "id": "JpDM1Er1obkO"
   },
   "source": [
    "### Tratamento de valores faltantes"
   ]
  },
  {
   "cell_type": "markdown",
   "metadata": {
    "id": "cOSLRdDEsWFx"
   },
   "source": [
    "### Divisão entre previsores e classe"
   ]
  },
  {
   "cell_type": "markdown",
   "metadata": {
    "id": "S_jbxLwqu4fQ"
   },
   "source": [
    "### Escalonamento dos valores"
   ]
  },
  {
   "cell_type": "markdown",
   "metadata": {
    "id": "uObPYCYDkBAV"
   },
   "source": [
    "# Base de dados do censo\n",
    "\n",
    "- Fonte: https://archive.ics.uci.edu/ml/datasets/adult"
   ]
  },
  {
   "cell_type": "markdown",
   "metadata": {
    "id": "g-23aN-nkDQ7"
   },
   "source": [
    "## Exploração dos dados"
   ]
  },
  {
   "cell_type": "markdown",
   "metadata": {
    "id": "zr9S1fZXRQhg"
   },
   "source": [
    "## Visualização dos dados"
   ]
  },
  {
   "cell_type": "markdown",
   "metadata": {
    "id": "2GpcvTQauTVx"
   },
   "source": [
    "## Divisão entre previsores e classe"
   ]
  },
  {
   "cell_type": "markdown",
   "metadata": {
    "id": "QGapZ37jkPAn"
   },
   "source": [
    "## Tratamento de atributos categóricos"
   ]
  },
  {
   "cell_type": "markdown",
   "metadata": {
    "id": "K2K3Wu8Q4e0E"
   },
   "source": [
    "### LabelEncoder"
   ]
  },
  {
   "cell_type": "code",
   "execution_count": null,
   "metadata": {
    "id": "oGz8K4uwWdGO"
   },
   "outputs": [],
   "source": [
    "from sklearn.preprocessing import LabelEncoder"
   ]
  },
  {
   "cell_type": "markdown",
   "metadata": {
    "id": "mHg2BXJR4hpi"
   },
   "source": [
    "### OneHotEncoder"
   ]
  },
  {
   "cell_type": "markdown",
   "metadata": {
    "id": "bdNbsNLFkWop"
   },
   "source": [
    "## Escalonamento dos valores"
   ]
  },
  {
   "cell_type": "markdown",
   "metadata": {
    "id": "NBXkHsxg6tcI"
   },
   "source": [
    "# Divisão das bases em treinamento e teste"
   ]
  },
  {
   "cell_type": "markdown",
   "metadata": {
    "id": "q_KOjDv47-IV"
   },
   "source": [
    "## Credit data"
   ]
  },
  {
   "cell_type": "markdown",
   "metadata": {
    "id": "zAecbXOi8AzA"
   },
   "source": [
    "## Census"
   ]
  },
  {
   "cell_type": "markdown",
   "metadata": {
    "id": "Oi9qbert8aMv"
   },
   "source": [
    "## Salvar as variáveis"
   ]
  },
  {
   "cell_type": "markdown",
   "metadata": {
    "id": "zX-Vgf6TnLnc"
   },
   "source": [
    "# Naïve Bayes"
   ]
  },
  {
   "cell_type": "markdown",
   "metadata": {
    "id": "L0FGtQLrnN-0"
   },
   "source": [
    "## Base risco de crédito"
   ]
  },
  {
   "cell_type": "markdown",
   "metadata": {
    "id": "lmXN77tcnP2v"
   },
   "source": [
    "## Base credit data - 93.80%"
   ]
  },
  {
   "cell_type": "markdown",
   "metadata": {
    "id": "lnC-s4bLnRmt"
   },
   "source": [
    "## Base census - 47.67%"
   ]
  },
  {
   "cell_type": "markdown",
   "metadata": {
    "id": "DjUu9ktyU4__"
   },
   "source": [
    "# Árvores de decisão"
   ]
  },
  {
   "cell_type": "markdown",
   "metadata": {
    "id": "PfnUWv8SU7ST"
   },
   "source": [
    "## Base risco de crédito"
   ]
  },
  {
   "cell_type": "markdown",
   "metadata": {
    "id": "TOCiDpHFU90w"
   },
   "source": [
    "## Base credit data - 98.20%"
   ]
  },
  {
   "cell_type": "markdown",
   "metadata": {
    "id": "sISIfqL0U_ss"
   },
   "source": [
    "## Base census - 81.04%"
   ]
  },
  {
   "cell_type": "markdown",
   "metadata": {
    "id": "BOPQLz28jDi7"
   },
   "source": [
    "# Random Forest"
   ]
  },
  {
   "cell_type": "markdown",
   "metadata": {
    "id": "ZO-c0InojFK5"
   },
   "source": [
    "## Base credit data - 98.40%"
   ]
  },
  {
   "cell_type": "markdown",
   "metadata": {
    "id": "0bLyVMFrjGzm"
   },
   "source": [
    "## Base census - 85.07%"
   ]
  },
  {
   "cell_type": "markdown",
   "metadata": {
    "id": "h8ZVuJ-VDE8h"
   },
   "source": [
    "# Regras"
   ]
  },
  {
   "cell_type": "code",
   "execution_count": null,
   "metadata": {
    "id": "cVoUs1jvExRJ"
   },
   "outputs": [],
   "source": [
    "import Orange"
   ]
  },
  {
   "cell_type": "markdown",
   "metadata": {
    "id": "4gUvxQ_wDGt4"
   },
   "source": [
    "## Base risco de crédito"
   ]
  },
  {
   "cell_type": "markdown",
   "metadata": {
    "id": "SN9q4qQiDIsi"
   },
   "source": [
    "## Base credit data - 97.40%"
   ]
  },
  {
   "cell_type": "markdown",
   "metadata": {
    "id": "0v5iHxzcNPNK"
   },
   "source": [
    "# Classificador base - Majority learner"
   ]
  },
  {
   "cell_type": "markdown",
   "metadata": {
    "id": "TWW4JhkLNS0t"
   },
   "source": [
    "## Base credit data - 85.85%"
   ]
  },
  {
   "cell_type": "markdown",
   "metadata": {
    "id": "e6tDYDLUNUWH"
   },
   "source": [
    "## Base census - 75.91%"
   ]
  },
  {
   "cell_type": "markdown",
   "metadata": {
    "id": "_lPLnCYVTQGk"
   },
   "source": [
    "# Aprendizagem baseada em instâncias - knn"
   ]
  },
  {
   "cell_type": "markdown",
   "metadata": {
    "id": "oVZ33-HhTUcV"
   },
   "source": [
    "## Base credit data - 98.60%"
   ]
  },
  {
   "cell_type": "markdown",
   "metadata": {
    "id": "y5tg1RPDTWPu"
   },
   "source": [
    "## Base census - 82.90%"
   ]
  },
  {
   "cell_type": "markdown",
   "metadata": {
    "id": "7q-aePyAQIcY"
   },
   "source": [
    "# Regressão logística"
   ]
  },
  {
   "cell_type": "markdown",
   "metadata": {
    "id": "wfNpnNK8QKut"
   },
   "source": [
    "## Base risco de crédito"
   ]
  },
  {
   "cell_type": "markdown",
   "metadata": {
    "id": "v4BNXREgQM5G"
   },
   "source": [
    "## Base credit data - 94.60%"
   ]
  },
  {
   "cell_type": "markdown",
   "metadata": {
    "id": "HsYao96MQOd0"
   },
   "source": [
    "## Base census - 84.95%"
   ]
  },
  {
   "cell_type": "markdown",
   "metadata": {
    "id": "IMKqPBZ0ZXHc"
   },
   "source": [
    "# SVM"
   ]
  },
  {
   "cell_type": "markdown",
   "metadata": {
    "id": "_l47QkKfZYYX"
   },
   "source": [
    "## Base credit data - 98.80%"
   ]
  },
  {
   "cell_type": "markdown",
   "metadata": {
    "id": "IDcs56b6ZZ-o"
   },
   "source": [
    "## Base census - 85.07%"
   ]
  },
  {
   "cell_type": "markdown",
   "metadata": {
    "id": "fSNUSSeOhqAd"
   },
   "source": [
    "# Redes neurais artificiais"
   ]
  },
  {
   "cell_type": "markdown",
   "metadata": {
    "id": "foQGPam1hrwG"
   },
   "source": [
    "## Base credit data - 99.80%"
   ]
  },
  {
   "cell_type": "markdown",
   "metadata": {
    "id": "wBeiHfvihtMZ"
   },
   "source": [
    "## Base census - 81.53%"
   ]
  },
  {
   "cell_type": "markdown",
   "metadata": {
    "id": "hzQjXv11xXiV"
   },
   "source": [
    "# Avaliação dos algoritmos\n",
    "\n",
    "- Naïve Bayes: 93.80\n",
    "- Árvore de decisão: 98.20\n",
    "- Random forest: 98.40\n",
    "- Regras: 97.40\n",
    "- Knn: 98.60\n",
    "- Regressão logística: 94.60\n",
    "- SVM: 98.80\n",
    "- Redes neurais: 99.60"
   ]
  },
  {
   "cell_type": "markdown",
   "metadata": {
    "id": "xZ7xQAHIxbYS"
   },
   "source": [
    "## Tuning dos parâmetros com GridSearch"
   ]
  },
  {
   "cell_type": "markdown",
   "metadata": {
    "id": "ccUPFWrYxemd"
   },
   "source": [
    "### Preparação dos dados"
   ]
  },
  {
   "cell_type": "markdown",
   "metadata": {
    "id": "TEC2nX_Bxgxb"
   },
   "source": [
    "### Árvore de decisão"
   ]
  },
  {
   "cell_type": "markdown",
   "metadata": {
    "id": "iDFqhYqqxi0a"
   },
   "source": [
    "### Random forest"
   ]
  },
  {
   "cell_type": "markdown",
   "metadata": {
    "id": "V2ukErzdxkYV"
   },
   "source": [
    "### Knn"
   ]
  },
  {
   "cell_type": "markdown",
   "metadata": {
    "id": "Sg1nw3UtxleM"
   },
   "source": [
    "### Regressão logística"
   ]
  },
  {
   "cell_type": "markdown",
   "metadata": {
    "id": "Y25eVjAqCtUh"
   },
   "source": [
    "### SVM"
   ]
  },
  {
   "cell_type": "markdown",
   "metadata": {
    "id": "cNZmpXyaxpsE"
   },
   "source": [
    "## Validação cruzada"
   ]
  },
  {
   "cell_type": "markdown",
   "metadata": {
    "id": "64STDoeYxrx8"
   },
   "source": [
    "## Teste de normalidade nos resultados\n",
    "\n",
    "- Shapiro: https://en.wikipedia.org/wiki/Shapiro%E2%80%93Wilk_test"
   ]
  },
  {
   "cell_type": "markdown",
   "metadata": {
    "id": "YKu3nItjxuy-"
   },
   "source": [
    "## Teste de hipótese com ANOVA e Tukey"
   ]
  },
  {
   "cell_type": "markdown",
   "metadata": {
    "id": "wo_FnyqZdSHP"
   },
   "source": [
    "# Salvar um classificador já treinado"
   ]
  },
  {
   "cell_type": "markdown",
   "metadata": {
    "id": "IE2LDIuAdVf2"
   },
   "source": [
    "# Carregar um classificador já treinado"
   ]
  },
  {
   "cell_type": "markdown",
   "metadata": {
    "id": "D8SRPAsJmEs3"
   },
   "source": [
    "# Combinação de classificadores"
   ]
  },
  {
   "cell_type": "markdown",
   "metadata": {
    "id": "b0PwlVawUlYk"
   },
   "source": [
    "# Redução de dimensionalidade"
   ]
  },
  {
   "cell_type": "markdown",
   "metadata": {
    "id": "5B4KH9_YVrmQ"
   },
   "source": [
    "## Preparacão da base de dados"
   ]
  },
  {
   "cell_type": "markdown",
   "metadata": {
    "id": "6OurC4GyUoak"
   },
   "source": [
    "## PCA (Principal component analysis)"
   ]
  },
  {
   "cell_type": "markdown",
   "metadata": {
    "id": "2UhdSgBmUtJ6"
   },
   "source": [
    "## Kernel PCA"
   ]
  },
  {
   "cell_type": "markdown",
   "metadata": {
    "id": "EGBZZwK2UyK7"
   },
   "source": [
    "## LDA (Linear discriminant analysis)"
   ]
  },
  {
   "cell_type": "markdown",
   "metadata": {
    "id": "lAN9s6MVGCcV"
   },
   "source": [
    "# Detecção de outliers"
   ]
  },
  {
   "cell_type": "markdown",
   "metadata": {
    "id": "N7LsjcpzGFpq"
   },
   "source": [
    "## Boxplot"
   ]
  },
  {
   "cell_type": "markdown",
   "metadata": {
    "id": "PM7UI73tGHjP"
   },
   "source": [
    "## Gráfico de dispersão"
   ]
  },
  {
   "cell_type": "markdown",
   "metadata": {
    "id": "wsy_nrrGGKu9"
   },
   "source": [
    "## Biblioteca PyOD\n",
    "\n",
    "- Documentação: https://pyod.readthedocs.io/en/latest/#"
   ]
  }
 ],
 "metadata": {
  "colab": {
   "collapsed_sections": [
    "9JL8G9jQXTLF",
    "JpDM1Er1obkO",
    "cOSLRdDEsWFx",
    "S_jbxLwqu4fQ",
    "g-23aN-nkDQ7",
    "zr9S1fZXRQhg",
    "2GpcvTQauTVx",
    "QGapZ37jkPAn",
    "K2K3Wu8Q4e0E",
    "mHg2BXJR4hpi",
    "bdNbsNLFkWop",
    "q_KOjDv47-IV",
    "zAecbXOi8AzA",
    "Oi9qbert8aMv",
    "L0FGtQLrnN-0",
    "lmXN77tcnP2v",
    "lnC-s4bLnRmt",
    "PfnUWv8SU7ST",
    "TOCiDpHFU90w",
    "ZO-c0InojFK5",
    "0bLyVMFrjGzm",
    "h8ZVuJ-VDE8h",
    "SN9q4qQiDIsi",
    "0v5iHxzcNPNK",
    "e6tDYDLUNUWH"
   ],
   "include_colab_link": true,
   "name": "hcca_01_ML_DS_Python_classificacao.ipynb",
   "provenance": []
  },
  "kernelspec": {
   "display_name": "Python 3 (ipykernel)",
   "language": "python",
   "name": "python3"
  },
  "language_info": {
   "codemirror_mode": {
    "name": "ipython",
    "version": 3
   },
   "file_extension": ".py",
   "mimetype": "text/x-python",
   "name": "python",
   "nbconvert_exporter": "python",
   "pygments_lexer": "ipython3",
   "version": "3.9.12"
  }
 },
 "nbformat": 4,
 "nbformat_minor": 1
}
